{
  "nbformat": 4,
  "nbformat_minor": 0,
  "metadata": {
    "kernelspec": {
      "display_name": "Python 3",
      "language": "python",
      "name": "python3"
    },
    "language_info": {
      "codemirror_mode": {
        "name": "ipython",
        "version": 3
      },
      "file_extension": ".py",
      "mimetype": "text/x-python",
      "name": "python",
      "nbconvert_exporter": "python",
      "pygments_lexer": "ipython3",
      "version": "3.6.9"
    },
    "toc": {
      "nav_menu": {},
      "number_sections": true,
      "sideBar": true,
      "skip_h1_title": false,
      "title_cell": "Table of Contents",
      "title_sidebar": "Contents",
      "toc_cell": false,
      "toc_position": {},
      "toc_section_display": true,
      "toc_window_display": false
    },
    "colab": {
      "provenance": [],
      "include_colab_link": true
    }
  },
  "cells": [
    {
      "cell_type": "markdown",
      "metadata": {
        "id": "view-in-github",
        "colab_type": "text"
      },
      "source": [
        "<a href=\"https://colab.research.google.com/github/ajita-asthana/Node-tuts/blob/master/asthana_ajeeta__dwd_assignment_07_part01.ipynb\" target=\"_parent\"><img src=\"https://colab.research.google.com/assets/colab-badge.svg\" alt=\"Open In Colab\"/></a>"
      ]
    },
    {
      "cell_type": "markdown",
      "metadata": {
        "id": "X91GfdIEy4hX"
      },
      "source": [
        "## Understanding JSON"
      ]
    },
    {
      "cell_type": "markdown",
      "metadata": {
        "id": "UUH5Dsd2XNvC"
      },
      "source": [
        "In this lesson we will be using the python JSON library. You can review it at: https://docs.python.org/3/library/json.html"
      ]
    },
    {
      "cell_type": "markdown",
      "metadata": {
        "id": "iWCT2FeSzJX-"
      },
      "source": [
        "### Converting from string to dict"
      ]
    },
    {
      "cell_type": "code",
      "source": [
        "import json\n",
        "x = '{\"name\" : \"John\", \"age\" : \"30\", \"city\" : \"New York\"}'\n",
        "print(type(x))\n",
        "x = json.loads(x)\n",
        "print(x)\n",
        "type(x)"
      ],
      "metadata": {
        "colab": {
          "base_uri": "https://localhost:8080/"
        },
        "id": "hDMOSf8cp1SD",
        "outputId": "eb2d129e-0245-44f8-9261-52b0149e339d"
      },
      "execution_count": null,
      "outputs": [
        {
          "output_type": "stream",
          "name": "stdout",
          "text": [
            "<class 'str'>\n",
            "{'name': 'John', 'age': '30', 'city': 'New York'}\n"
          ]
        },
        {
          "output_type": "execute_result",
          "data": {
            "text/plain": [
              "dict"
            ]
          },
          "metadata": {},
          "execution_count": 1
        }
      ]
    },
    {
      "cell_type": "code",
      "source": [
        "x"
      ],
      "metadata": {
        "colab": {
          "base_uri": "https://localhost:8080/"
        },
        "id": "05r6LehfqQhR",
        "outputId": "227f877d-9d71-4939-9454-9735cab9f24d"
      },
      "execution_count": null,
      "outputs": [
        {
          "output_type": "execute_result",
          "data": {
            "text/plain": [
              "{'name': 'John', 'age': '30', 'city': 'New York'}"
            ]
          },
          "metadata": {},
          "execution_count": 2
        }
      ]
    },
    {
      "cell_type": "markdown",
      "metadata": {
        "id": "qKSfUTjjzOjB"
      },
      "source": [
        "###Converting from python dict to string (JSON)"
      ]
    },
    {
      "cell_type": "code",
      "source": [
        "import json\n",
        "myjsonagain = json.dumps(x, indent=4)\n",
        "print(type(myjsonagain))\n",
        "print(myjsonagain)"
      ],
      "metadata": {
        "colab": {
          "base_uri": "https://localhost:8080/"
        },
        "id": "GguY_kstqWvt",
        "outputId": "7fe00ecd-a566-47b5-cf66-7bfe2031a7b9"
      },
      "execution_count": null,
      "outputs": [
        {
          "output_type": "stream",
          "name": "stdout",
          "text": [
            "<class 'str'>\n",
            "{\n",
            "    \"name\": \"John\",\n",
            "    \"age\": \"30\",\n",
            "    \"city\": \"New York\"\n",
            "}\n"
          ]
        }
      ]
    },
    {
      "cell_type": "markdown",
      "source": [
        "#Ip Stack API\n",
        "\n",
        "\n",
        "#1. https://ipstack.com/ obtain key\n",
        "#2. Obtain your IP address https://whatismyipaddress.com/ and plug it in below along with you access key"
      ],
      "metadata": {
        "id": "IW48UuQbGAv3"
      }
    },
    {
      "cell_type": "code",
      "metadata": {
        "id": "bN4EUQRwWXTu",
        "colab": {
          "base_uri": "https://localhost:8080/",
          "height": 35
        },
        "outputId": "5ae8e2cc-ece3-43e5-c83f-4b95bf34f3b8"
      },
      "source": [
        "import requests\n",
        "requests.__version__ #tells you the version of the requests library"
      ],
      "execution_count": null,
      "outputs": [
        {
          "output_type": "execute_result",
          "data": {
            "text/plain": [
              "'2.23.0'"
            ],
            "application/vnd.google.colaboratory.intrinsic+json": {
              "type": "string"
            }
          },
          "metadata": {},
          "execution_count": 5
        }
      ]
    },
    {
      "cell_type": "code",
      "source": [
        "url = 'http://api.ipstack.com/69.141.118.167?access_key=610a45cfb657078c01e576b338295e05&output=json'\n",
        "resp = requests.get(url)"
      ],
      "metadata": {
        "id": "NGeYx5QMqqrf"
      },
      "execution_count": null,
      "outputs": []
    },
    {
      "cell_type": "code",
      "source": [
        "# The resp object encapsulates the \"response\" of the server\n",
        "# Notice the status code that is displayed. \n",
        "# Code 200 means that things went fine\n",
        "# Code 404 means that the URL was not found\n",
        "# Codes 5xx mean that something went wrong\n",
        "resp"
      ],
      "metadata": {
        "colab": {
          "base_uri": "https://localhost:8080/"
        },
        "id": "dm3pqEuBrKMr",
        "outputId": "608699b4-0213-4265-ef28-b0efc914abb9"
      },
      "execution_count": null,
      "outputs": [
        {
          "output_type": "execute_result",
          "data": {
            "text/plain": [
              "<Response [200]>"
            ]
          },
          "metadata": {},
          "execution_count": 7
        }
      ]
    },
    {
      "cell_type": "code",
      "source": [
        "if(resp.status_code == 200):\n",
        "  print(\"Everything was OK: \", resp.status_code)\n",
        "else:\n",
        "  print(\"There was a problem: \", resp.status_code)"
      ],
      "metadata": {
        "colab": {
          "base_uri": "https://localhost:8080/"
        },
        "id": "pNCIYXbkrONc",
        "outputId": "8627b22c-6b42-4264-8211-a20787cc133d"
      },
      "execution_count": null,
      "outputs": [
        {
          "output_type": "stream",
          "name": "stdout",
          "text": [
            "Everything was OK:  200\n"
          ]
        }
      ]
    },
    {
      "cell_type": "code",
      "source": [
        "# Let's see the content of the response\n",
        "# As you can see, it contains the JSON response\n",
        "data = resp.text\n",
        "print(type(data))\n",
        "data"
      ],
      "metadata": {
        "colab": {
          "base_uri": "https://localhost:8080/",
          "height": 125
        },
        "id": "A2Dp7OVEredh",
        "outputId": "f61c39e8-9efe-44a6-e244-91b9cf27014c"
      },
      "execution_count": null,
      "outputs": [
        {
          "output_type": "stream",
          "name": "stdout",
          "text": [
            "<class 'str'>\n"
          ]
        },
        {
          "output_type": "execute_result",
          "data": {
            "text/plain": [
              "'{\"ip\": \"69.141.118.167\", \"type\": \"ipv4\", \"continent_code\": \"NA\", \"continent_name\": \"North America\", \"country_code\": \"US\", \"country_name\": \"United States\", \"region_code\": \"NJ\", \"region_name\": \"New Jersey\", \"city\": \"Jersey City\", \"zip\": \"07304\", \"latitude\": 40.717769622802734, \"longitude\": -74.07971954345703, \"location\": {\"geoname_id\": 5099836, \"capital\": \"Washington D.C.\", \"languages\": [{\"code\": \"en\", \"name\": \"English\", \"native\": \"English\"}], \"country_flag\": \"https://assets.ipstack.com/flags/us.svg\", \"country_flag_emoji\": \"\\\\ud83c\\\\uddfa\\\\ud83c\\\\uddf8\", \"country_flag_emoji_unicode\": \"U+1F1FA U+1F1F8\", \"calling_code\": \"1\", \"is_eu\": false}}'"
            ],
            "application/vnd.google.colaboratory.intrinsic+json": {
              "type": "string"
            }
          },
          "metadata": {},
          "execution_count": 9
        }
      ]
    },
    {
      "cell_type": "code",
      "source": [
        "type(data)"
      ],
      "metadata": {
        "colab": {
          "base_uri": "https://localhost:8080/"
        },
        "id": "Ahd9exwYsEAr",
        "outputId": "4fadd1b8-232b-401a-c87d-b3043f4a9932"
      },
      "execution_count": null,
      "outputs": [
        {
          "output_type": "execute_result",
          "data": {
            "text/plain": [
              "str"
            ]
          },
          "metadata": {},
          "execution_count": 10
        }
      ]
    },
    {
      "cell_type": "code",
      "source": [
        "data = resp.json()\n",
        "print(type(data))\n",
        "data"
      ],
      "metadata": {
        "colab": {
          "base_uri": "https://localhost:8080/"
        },
        "id": "tTJ8RT2osFjF",
        "outputId": "4d79eb9b-c967-42e9-9475-c202fe774303"
      },
      "execution_count": null,
      "outputs": [
        {
          "output_type": "stream",
          "name": "stdout",
          "text": [
            "<class 'dict'>\n"
          ]
        },
        {
          "output_type": "execute_result",
          "data": {
            "text/plain": [
              "{'ip': '69.141.118.167',\n",
              " 'type': 'ipv4',\n",
              " 'continent_code': 'NA',\n",
              " 'continent_name': 'North America',\n",
              " 'country_code': 'US',\n",
              " 'country_name': 'United States',\n",
              " 'region_code': 'NJ',\n",
              " 'region_name': 'New Jersey',\n",
              " 'city': 'Jersey City',\n",
              " 'zip': '07304',\n",
              " 'latitude': 40.717769622802734,\n",
              " 'longitude': -74.07971954345703,\n",
              " 'location': {'geoname_id': 5099836,\n",
              "  'capital': 'Washington D.C.',\n",
              "  'languages': [{'code': 'en', 'name': 'English', 'native': 'English'}],\n",
              "  'country_flag': 'https://assets.ipstack.com/flags/us.svg',\n",
              "  'country_flag_emoji': '🇺🇸',\n",
              "  'country_flag_emoji_unicode': 'U+1F1FA U+1F1F8',\n",
              "  'calling_code': '1',\n",
              "  'is_eu': False}}"
            ]
          },
          "metadata": {},
          "execution_count": 11
        }
      ]
    },
    {
      "cell_type": "code",
      "source": [
        "print(f'Lon: {data[\"longitude\"]}, Lat: {data[\"latitude\"]}')"
      ],
      "metadata": {
        "colab": {
          "base_uri": "https://localhost:8080/"
        },
        "id": "VP4tO3tHsMk1",
        "outputId": "11a12466-2e56-4ec7-cbaf-691308ce4406"
      },
      "execution_count": null,
      "outputs": [
        {
          "output_type": "stream",
          "name": "stdout",
          "text": [
            "Lon: -74.07971954345703, Lat: 40.717769622802734\n"
          ]
        }
      ]
    },
    {
      "cell_type": "code",
      "source": [
        "import requests\n",
        "url = 'http://api.ipstack.com/69.141.118.167?access_key=610a45cfb657078c01e576b338295e05&output=json'\n",
        "resp = requests.get(url)\n",
        "data = resp.json()\n",
        "print(f'Lon: {data[\"longitude\"]} Lat: {data[\"latitude\"]}')"
      ],
      "metadata": {
        "colab": {
          "base_uri": "https://localhost:8080/"
        },
        "id": "hCEr5LgIsmfJ",
        "outputId": "13d02e46-112a-4534-f74f-5f9947038baf"
      },
      "execution_count": null,
      "outputs": [
        {
          "output_type": "stream",
          "name": "stdout",
          "text": [
            "Lon: -74.07971954345703 Lat: 40.717769622802734\n"
          ]
        }
      ]
    },
    {
      "cell_type": "code",
      "source": [
        "print(data.keys())\n",
        "print(data[\"ip\"])\n",
        "print(data[\"type\"])"
      ],
      "metadata": {
        "colab": {
          "base_uri": "https://localhost:8080/"
        },
        "id": "TP0j2MU2tGUa",
        "outputId": "4108d4b6-fd54-4085-af89-cb67326f7ef8"
      },
      "execution_count": null,
      "outputs": [
        {
          "output_type": "stream",
          "name": "stdout",
          "text": [
            "dict_keys(['ip', 'type', 'continent_code', 'continent_name', 'country_code', 'country_name', 'region_code', 'region_name', 'city', 'zip', 'latitude', 'longitude', 'location'])\n",
            "69.141.118.167\n",
            "ipv4\n"
          ]
        }
      ]
    },
    {
      "cell_type": "markdown",
      "metadata": {
        "id": "mYbbGri4a14s"
      },
      "source": [
        "# OpenWeatherMap API\n",
        "\n",
        "\n"
      ]
    },
    {
      "cell_type": "markdown",
      "metadata": {
        "id": "x78E5_bQa15K"
      },
      "source": [
        "Let's try to query OpenWeatherMap, to get data about the weather. [Documentation](http://openweathermap.org/current#geo). Below you can find the URL that you can copy and paste in your browser, to get the weather for New York. You will notice that it contains parameters as part of the URL, including an `appid` which is a key that is used to limit the number of calls that can be issued by a single application. \n",
        "\n",
        "Try the URL in your browser. Also try to change the query parameter `q` and change it from `New%20York,NY` to something different. (Note: The `%20` is a transformation for the space (` `) character in URLs.)"
      ]
    },
    {
      "cell_type": "markdown",
      "metadata": {
        "id": "gCjR_Cdla15K"
      },
      "source": [
        "Below you can find the same code, but now we have a Python dictionary to organize and list the parameters."
      ]
    },
    {
      "cell_type": "code",
      "metadata": {
        "id": "D8z7HzlAa15L",
        "colab": {
          "base_uri": "https://localhost:8080/"
        },
        "outputId": "283a6992-5dae-4dfc-85e7-281e7fc98a9a"
      },
      "source": [
        "import requests\n",
        "\n",
        "openweathermap_url = \"http://api.openweathermap.org/data/2.5/weather\"\n",
        "parameters = {\n",
        "    'q'     : 'New York, NY, USA',\n",
        "    'units' : 'imperial',\n",
        "    'mode'  : 'json',\n",
        "    'appid' : '64eda07445c9664b4b00669f24d32da1' \n",
        "}\n",
        "resp = requests.get(openweathermap_url, params=parameters)\n",
        "print(\"The type of object is a:\", type(resp))\n",
        "# The resp object encapsulates the \"response\" of the server\n",
        "# Notice the status code that is displayed. \n",
        "# Code 200 means that things went fine\n",
        "# Code 404 means that the URL was not found\n",
        "# Codes 5xx mean that something went wrong\n",
        "print(\"The response of the server is:\", resp) \n"
      ],
      "execution_count": null,
      "outputs": [
        {
          "output_type": "stream",
          "name": "stdout",
          "text": [
            "The type of object is a: <class 'requests.models.Response'>\n",
            "The response of the server is: <Response [200]>\n"
          ]
        }
      ]
    },
    {
      "cell_type": "code",
      "metadata": {
        "id": "iEVAPzRTxNoR",
        "colab": {
          "base_uri": "https://localhost:8080/"
        },
        "outputId": "e34a4eca-5ca4-48dd-8513-6ee0d6f228fe"
      },
      "source": [
        "data = resp.json()\n",
        "print(type(data))\n",
        "data"
      ],
      "execution_count": null,
      "outputs": [
        {
          "output_type": "stream",
          "name": "stdout",
          "text": [
            "<class 'dict'>\n"
          ]
        },
        {
          "output_type": "execute_result",
          "data": {
            "text/plain": [
              "{'coord': {'lon': -73.9866, 'lat': 40.7306},\n",
              " 'weather': [{'id': 800,\n",
              "   'main': 'Clear',\n",
              "   'description': 'clear sky',\n",
              "   'icon': '01n'}],\n",
              " 'base': 'stations',\n",
              " 'main': {'temp': 48.27,\n",
              "  'feels_like': 45.75,\n",
              "  'temp_min': 40.68,\n",
              "  'temp_max': 52.95,\n",
              "  'pressure': 1033,\n",
              "  'humidity': 74},\n",
              " 'visibility': 10000,\n",
              " 'wind': {'speed': 5.75, 'deg': 210},\n",
              " 'clouds': {'all': 0},\n",
              " 'dt': 1668052218,\n",
              " 'sys': {'type': 2,\n",
              "  'id': 2039034,\n",
              "  'country': 'US',\n",
              "  'sunrise': 1667993744,\n",
              "  'sunset': 1668030233},\n",
              " 'timezone': -18000,\n",
              " 'id': 5128581,\n",
              " 'name': 'New York',\n",
              " 'cod': 200}"
            ]
          },
          "metadata": {},
          "execution_count": 16
        }
      ]
    },
    {
      "cell_type": "markdown",
      "metadata": {
        "id": "-PwC87Lva15N"
      },
      "source": [
        "## Exercise"
      ]
    },
    {
      "cell_type": "markdown",
      "metadata": {
        "id": "RbWclnRVa15N"
      },
      "source": [
        "Use the weatherAPI. \n",
        "\n",
        "a. Extract the current temperature from the returned JSON response.  \n",
        "b. Extract the description of the current weather.  \n",
        "c. Try to change the units to metric and repeat.  \n",
        "d. Get the weather for San Francisco, CA.  \n",
        "e. Study the documentation of the API (Documentation). Change the API call to use the longitude and latitude.  "
      ]
    },
    {
      "cell_type": "markdown",
      "metadata": {
        "heading_collapsed": true,
        "id": "i0mLg9gna15R"
      },
      "source": [
        "## ...Solutions"
      ]
    },
    {
      "cell_type": "code",
      "metadata": {
        "id": "u1vhJSHza15O",
        "colab": {
          "base_uri": "https://localhost:8080/"
        },
        "outputId": "e8eb506d-2cd6-47c7-ea65-d7b7c4ab910b"
      },
      "source": [
        "#a. Extract the current temperature from the returned JSON response.\n",
        "print(f'Current Temperature is {data[\"main\"][\"temp\"]}')\n"
      ],
      "execution_count": null,
      "outputs": [
        {
          "output_type": "stream",
          "name": "stdout",
          "text": [
            "Current Temperature is 48.27\n"
          ]
        }
      ]
    },
    {
      "cell_type": "code",
      "metadata": {
        "id": "R65yQlwDa15Q",
        "colab": {
          "base_uri": "https://localhost:8080/"
        },
        "outputId": "5670495e-0f96-4a6d-8b77-e32326694d50"
      },
      "source": [
        "#b. Extract the description of the current weather.\n",
        "weather_lst = data[\"weather\"]\n",
        "print(f'Description of current weather is {weather_lst[0][\"description\"]}')"
      ],
      "execution_count": null,
      "outputs": [
        {
          "output_type": "stream",
          "name": "stdout",
          "text": [
            "Description of current weather is clear sky\n"
          ]
        }
      ]
    },
    {
      "cell_type": "code",
      "metadata": {
        "hidden": true,
        "id": "LI97A83ea15W",
        "colab": {
          "base_uri": "https://localhost:8080/"
        },
        "outputId": "7fc4c94d-8c61-410c-d93c-559a9db8eddc"
      },
      "source": [
        "#c. Try to change the units to metric and repeat.\n",
        "openweathermap_url_metric = \"http://api.openweathermap.org/data/2.5/weather\"\n",
        "parameters = {\n",
        "    'q'     : 'New York, NY, USA',\n",
        "    'units' : 'metric',\n",
        "    'mode'  : 'json',\n",
        "    'appid' : '64eda07445c9664b4b00669f24d32da1' \n",
        "}\n",
        "resp_metric = requests.get(openweathermap_url_metric, params=parameters)\n",
        "print(\"The response of the server is:\", resp_metric) "
      ],
      "execution_count": null,
      "outputs": [
        {
          "output_type": "stream",
          "name": "stdout",
          "text": [
            "The response of the server is: <Response [200]>\n"
          ]
        }
      ]
    },
    {
      "cell_type": "code",
      "source": [
        "data_metric = resp_metric.json()\n",
        "print(type(data_metric))\n",
        "data_metric"
      ],
      "metadata": {
        "colab": {
          "base_uri": "https://localhost:8080/"
        },
        "id": "dyQ9cZejWBUU",
        "outputId": "448fc292-716a-408a-b6b0-7494e1b6e7bc"
      },
      "execution_count": null,
      "outputs": [
        {
          "output_type": "stream",
          "name": "stdout",
          "text": [
            "<class 'dict'>\n"
          ]
        },
        {
          "output_type": "execute_result",
          "data": {
            "text/plain": [
              "{'coord': {'lon': -73.9866, 'lat': 40.7306},\n",
              " 'weather': [{'id': 800,\n",
              "   'main': 'Clear',\n",
              "   'description': 'clear sky',\n",
              "   'icon': '01n'}],\n",
              " 'base': 'stations',\n",
              " 'main': {'temp': 9.04,\n",
              "  'feels_like': 7.64,\n",
              "  'temp_min': 4.82,\n",
              "  'temp_max': 11.64,\n",
              "  'pressure': 1033,\n",
              "  'humidity': 74},\n",
              " 'visibility': 10000,\n",
              " 'wind': {'speed': 2.57, 'deg': 210},\n",
              " 'clouds': {'all': 0},\n",
              " 'dt': 1668052218,\n",
              " 'sys': {'type': 2,\n",
              "  'id': 2039034,\n",
              "  'country': 'US',\n",
              "  'sunrise': 1667993744,\n",
              "  'sunset': 1668030233},\n",
              " 'timezone': -18000,\n",
              " 'id': 5128581,\n",
              " 'name': 'New York',\n",
              " 'cod': 200}"
            ]
          },
          "metadata": {},
          "execution_count": 20
        }
      ]
    },
    {
      "cell_type": "code",
      "source": [
        "print(f'Current Temperature is {data_metric[\"main\"][\"temp\"]}')"
      ],
      "metadata": {
        "colab": {
          "base_uri": "https://localhost:8080/"
        },
        "id": "qaba_SEFWGOY",
        "outputId": "5404ae79-5566-47ec-edce-df3e2fe72845"
      },
      "execution_count": null,
      "outputs": [
        {
          "output_type": "stream",
          "name": "stdout",
          "text": [
            "Current Temperature is 9.04\n"
          ]
        }
      ]
    },
    {
      "cell_type": "code",
      "source": [
        "weather_lst_metric = data_metric[\"weather\"]\n",
        "print(f'Description of current weather is {weather_lst_metric[0][\"description\"]}')"
      ],
      "metadata": {
        "colab": {
          "base_uri": "https://localhost:8080/"
        },
        "id": "ktyBmjEfWeun",
        "outputId": "dc5f6891-ced4-491f-94d2-1c0ca3e9ca4e"
      },
      "execution_count": null,
      "outputs": [
        {
          "output_type": "stream",
          "name": "stdout",
          "text": [
            "Description of current weather is clear sky\n"
          ]
        }
      ]
    },
    {
      "cell_type": "code",
      "metadata": {
        "hidden": true,
        "id": "Jfyi6hb_a15a",
        "colab": {
          "base_uri": "https://localhost:8080/"
        },
        "outputId": "dbbff7ae-c9b1-48f2-d0c7-0c08047f9f7e"
      },
      "source": [
        "#d. Get the weather for San Francisco, CA.\n",
        "openweathermap_url_sf = \"http://api.openweathermap.org/data/2.5/weather\"\n",
        "parameters = {\n",
        "    'q'     : 'San Francisco, CA, USA',\n",
        "    'units' : 'imperial',\n",
        "    'mode'  : 'json',\n",
        "    'appid' : '64eda07445c9664b4b00669f24d32da1' \n",
        "}\n",
        "resp_sf = requests.get(openweathermap_url_sf, params=parameters)\n",
        "print(\"The response of the server is:\", resp_sf) \n",
        "\n"
      ],
      "execution_count": null,
      "outputs": [
        {
          "output_type": "stream",
          "name": "stdout",
          "text": [
            "The response of the server is: <Response [200]>\n"
          ]
        }
      ]
    },
    {
      "cell_type": "code",
      "source": [
        "data_sf = resp_sf.json()\n",
        "data_sf"
      ],
      "metadata": {
        "colab": {
          "base_uri": "https://localhost:8080/"
        },
        "id": "P55O-9xPWwCL",
        "outputId": "0e49b695-0294-4bc5-8129-aea5768341f3"
      },
      "execution_count": null,
      "outputs": [
        {
          "output_type": "execute_result",
          "data": {
            "text/plain": [
              "{'coord': {'lon': -76.8789, 'lat': 1.1749},\n",
              " 'weather': [{'id': 804,\n",
              "   'main': 'Clouds',\n",
              "   'description': 'overcast clouds',\n",
              "   'icon': '04n'}],\n",
              " 'base': 'stations',\n",
              " 'main': {'temp': 55.67,\n",
              "  'feels_like': 55.49,\n",
              "  'temp_min': 55.67,\n",
              "  'temp_max': 55.67,\n",
              "  'pressure': 1018,\n",
              "  'humidity': 97,\n",
              "  'sea_level': 1018,\n",
              "  'grnd_level': 789},\n",
              " 'visibility': 10000,\n",
              " 'wind': {'speed': 3.74, 'deg': 305, 'gust': 4.38},\n",
              " 'clouds': {'all': 100},\n",
              " 'dt': 1668052259,\n",
              " 'sys': {'country': 'CO', 'sunrise': 1667990960, 'sunset': 1668034406},\n",
              " 'timezone': -18000,\n",
              " 'id': 3669881,\n",
              " 'name': 'San Francisco',\n",
              " 'cod': 200}"
            ]
          },
          "metadata": {},
          "execution_count": 24
        }
      ]
    },
    {
      "cell_type": "code",
      "metadata": {
        "hidden": true,
        "id": "gcKB5567a15c",
        "colab": {
          "base_uri": "https://localhost:8080/"
        },
        "outputId": "610b7341-937c-4a9b-d271-e891d9cea5a8"
      },
      "source": [
        "#e. Study the documentation of the API (Documentation). \n",
        "#Change the API call to use longitude and latitude of SF.\n",
        "#https://openweathermap.org/api\n",
        "\n",
        "parameters = {\n",
        "    'lat'   : '1.1749',\n",
        "    'lon'   : '-76.8789',\n",
        "    'units' : 'imperial',\n",
        "    'mode'  : 'json',\n",
        "    'appid' : '64eda07445c9664b4b00669f24d32da1' \n",
        "}\n",
        "\n",
        "response_data = requests.get(openweathermap_url, params=parameters)\n",
        "print(type(response_data))\n",
        "response_data\n"
      ],
      "execution_count": null,
      "outputs": [
        {
          "output_type": "stream",
          "name": "stdout",
          "text": [
            "<class 'requests.models.Response'>\n"
          ]
        },
        {
          "output_type": "execute_result",
          "data": {
            "text/plain": [
              "<Response [200]>"
            ]
          },
          "metadata": {},
          "execution_count": 25
        }
      ]
    },
    {
      "cell_type": "code",
      "metadata": {
        "id": "eBxhz1Isv5WQ",
        "colab": {
          "base_uri": "https://localhost:8080/"
        },
        "outputId": "99a867a5-66de-4b8b-9d98-27e63fb8b43c"
      },
      "source": [
        "#f. Extract the current weather using the latitude and longitude from your IP address.\n",
        "weather_data = response_data.json()\n",
        "weather_data"
      ],
      "execution_count": null,
      "outputs": [
        {
          "output_type": "execute_result",
          "data": {
            "text/plain": [
              "{'coord': {'lon': -76.8789, 'lat': 1.1749},\n",
              " 'weather': [{'id': 804,\n",
              "   'main': 'Clouds',\n",
              "   'description': 'overcast clouds',\n",
              "   'icon': '04n'}],\n",
              " 'base': 'stations',\n",
              " 'main': {'temp': 55.67,\n",
              "  'feels_like': 55.49,\n",
              "  'temp_min': 55.67,\n",
              "  'temp_max': 55.67,\n",
              "  'pressure': 1018,\n",
              "  'humidity': 97,\n",
              "  'sea_level': 1018,\n",
              "  'grnd_level': 789},\n",
              " 'visibility': 10000,\n",
              " 'wind': {'speed': 3.74, 'deg': 305, 'gust': 4.38},\n",
              " 'clouds': {'all': 100},\n",
              " 'dt': 1668052266,\n",
              " 'sys': {'country': 'CO', 'sunrise': 1667990960, 'sunset': 1668034406},\n",
              " 'timezone': -18000,\n",
              " 'id': 3669881,\n",
              " 'name': 'San Francisco',\n",
              " 'cod': 200}"
            ]
          },
          "metadata": {},
          "execution_count": 26
        }
      ]
    },
    {
      "cell_type": "code",
      "source": [
        "print(\"The current weather using the latitude and longtitude from my IP address is\",weather_data['main']['temp'])"
      ],
      "metadata": {
        "colab": {
          "base_uri": "https://localhost:8080/"
        },
        "id": "TwGRUl0iqsNW",
        "outputId": "fcf0035c-3381-4abb-d6cd-46b4b150ed66"
      },
      "execution_count": null,
      "outputs": [
        {
          "output_type": "stream",
          "name": "stdout",
          "text": [
            "The current weather using the latitude and longtitude from my IP address is 55.67\n"
          ]
        }
      ]
    }
  ]
}